{
 "cells": [
  {
   "cell_type": "code",
   "execution_count": 157,
   "metadata": {},
   "outputs": [],
   "source": [
    "import numpy as np\n",
    "import pandas as pd\n",
    "import matplotlib.pyplot as plt\n",
    "import seaborn as sns"
   ]
  },
  {
   "cell_type": "code",
   "execution_count": 158,
   "metadata": {},
   "outputs": [],
   "source": [
    "def identify_pareto(scores):\n",
    "    # Count number of items\n",
    "    population_size = scores.shape[0]\n",
    "    # Create a NumPy index for scores on the pareto front (zero indexed)\n",
    "    population_ids = np.arange(population_size)\n",
    "    # Create a starting list of items on the Pareto front\n",
    "    # All items start off as being labelled as on the Parteo front\n",
    "    pareto_front = np.ones(population_size, dtype=bool)\n",
    "    # Loop through each item. This will then be compared with all other items\n",
    "    for i in range(population_size):\n",
    "        # Loop through all other items\n",
    "        for j in range(population_size):\n",
    "            # Check if our 'i' pint is dominated by out 'j' point\n",
    "            if (scores[j][0] <= scores[i][0]) and (scores[j][1] >= scores[i][1]) and ((scores[j][0] < scores[i][0]) or (scores[j][1] > scores[i][1])):\n",
    "                # j dominates i. Label 'i' point as not on Pareto front\n",
    "                pareto_front[i] = 0\n",
    "                # Stop further comparisons with 'i' (no more comparisons needed)\n",
    "                break\n",
    "    # Return ids of scenarios on pareto front\n",
    "    return population_ids[pareto_front]"
   ]
  },
  {
   "cell_type": "code",
   "execution_count": 159,
   "metadata": {},
   "outputs": [],
   "source": [
    "hp_result_p = pd.read_csv('result_exp_1_P.csv', index_col=0)\n",
    "hp_result_u = pd.read_csv('result_exp_1_U.csv', index_col=0)"
   ]
  },
  {
   "cell_type": "code",
   "execution_count": 160,
   "metadata": {},
   "outputs": [
    {
     "data": {
      "text/plain": [
       "Index(['alpha_u', 'alpha_i', 'alpha_b', 'dim', 'lr', 'sigma', 'valid_error',\n",
       "       'valid_mpr', 'valid_hit_rate', 'epoch', 'valid_correct_count'],\n",
       "      dtype='object')"
      ]
     },
     "execution_count": 160,
     "metadata": {},
     "output_type": "execute_result"
    }
   ],
   "source": [
    "hp_result_p.columns"
   ]
  },
  {
   "cell_type": "markdown",
   "metadata": {},
   "source": [
    "### Popularity Sampling:"
   ]
  },
  {
   "cell_type": "code",
   "execution_count": 219,
   "metadata": {},
   "outputs": [
    {
     "name": "stdout",
     "output_type": "stream",
     "text": [
      "Popularity Sampling\n",
      "--------------------------------------------------\n",
      "Best HP Sets for highest valid_correct_count:\n"
     ]
    },
    {
     "data": {
      "text/html": [
       "<div>\n",
       "<style scoped>\n",
       "    .dataframe tbody tr th:only-of-type {\n",
       "        vertical-align: middle;\n",
       "    }\n",
       "\n",
       "    .dataframe tbody tr th {\n",
       "        vertical-align: top;\n",
       "    }\n",
       "\n",
       "    .dataframe thead th {\n",
       "        text-align: right;\n",
       "    }\n",
       "</style>\n",
       "<table border=\"1\" class=\"dataframe\">\n",
       "  <thead>\n",
       "    <tr style=\"text-align: right;\">\n",
       "      <th></th>\n",
       "      <th>alpha_u</th>\n",
       "      <th>alpha_i</th>\n",
       "      <th>alpha_b</th>\n",
       "      <th>dim</th>\n",
       "      <th>lr</th>\n",
       "      <th>sigma</th>\n",
       "      <th>valid_error</th>\n",
       "      <th>valid_mpr</th>\n",
       "      <th>valid_hit_rate</th>\n",
       "      <th>epoch</th>\n",
       "      <th>valid_correct_count</th>\n",
       "    </tr>\n",
       "  </thead>\n",
       "  <tbody>\n",
       "    <tr>\n",
       "      <th>53</th>\n",
       "      <td>0.010</td>\n",
       "      <td>0.010</td>\n",
       "      <td>0.10</td>\n",
       "      <td>60</td>\n",
       "      <td>0.029525</td>\n",
       "      <td>0.1000</td>\n",
       "      <td>-1953.813488</td>\n",
       "      <td>0.117995</td>\n",
       "      <td>[0.00711921 0.0647351  0.23592715 0.86953642]</td>\n",
       "      <td>26</td>\n",
       "      <td>5283</td>\n",
       "    </tr>\n",
       "    <tr>\n",
       "      <th>12</th>\n",
       "      <td>0.010</td>\n",
       "      <td>0.001</td>\n",
       "      <td>0.10</td>\n",
       "      <td>150</td>\n",
       "      <td>0.072900</td>\n",
       "      <td>0.1000</td>\n",
       "      <td>-2267.522648</td>\n",
       "      <td>0.151893</td>\n",
       "      <td>[0.00612583 0.04735099 0.20049669 0.81870861]</td>\n",
       "      <td>12</td>\n",
       "      <td>5170</td>\n",
       "    </tr>\n",
       "    <tr>\n",
       "      <th>66</th>\n",
       "      <td>0.001</td>\n",
       "      <td>0.010</td>\n",
       "      <td>0.05</td>\n",
       "      <td>45</td>\n",
       "      <td>0.065610</td>\n",
       "      <td>0.0010</td>\n",
       "      <td>-2101.308869</td>\n",
       "      <td>0.135251</td>\n",
       "      <td>[0.00678808 0.06142384 0.20182119 0.84288079]</td>\n",
       "      <td>20</td>\n",
       "      <td>5164</td>\n",
       "    </tr>\n",
       "    <tr>\n",
       "      <th>7</th>\n",
       "      <td>0.050</td>\n",
       "      <td>0.001</td>\n",
       "      <td>0.10</td>\n",
       "      <td>35</td>\n",
       "      <td>0.003487</td>\n",
       "      <td>0.0100</td>\n",
       "      <td>-2206.855880</td>\n",
       "      <td>0.126572</td>\n",
       "      <td>[0.00827815 0.07781457 0.26274834 0.86572848]</td>\n",
       "      <td>50</td>\n",
       "      <td>5157</td>\n",
       "    </tr>\n",
       "    <tr>\n",
       "      <th>85</th>\n",
       "      <td>0.050</td>\n",
       "      <td>0.010</td>\n",
       "      <td>0.05</td>\n",
       "      <td>30</td>\n",
       "      <td>0.023915</td>\n",
       "      <td>0.0001</td>\n",
       "      <td>-2366.160918</td>\n",
       "      <td>0.125575</td>\n",
       "      <td>[0.00827815 0.07135762 0.23294702 0.85844371]</td>\n",
       "      <td>33</td>\n",
       "      <td>5127</td>\n",
       "    </tr>\n",
       "  </tbody>\n",
       "</table>\n",
       "</div>"
      ],
      "text/plain": [
       "    alpha_u  alpha_i  alpha_b  dim        lr   sigma  valid_error  valid_mpr  \\\n",
       "53    0.010    0.010     0.10   60  0.029525  0.1000 -1953.813488   0.117995   \n",
       "12    0.010    0.001     0.10  150  0.072900  0.1000 -2267.522648   0.151893   \n",
       "66    0.001    0.010     0.05   45  0.065610  0.0010 -2101.308869   0.135251   \n",
       "7     0.050    0.001     0.10   35  0.003487  0.0100 -2206.855880   0.126572   \n",
       "85    0.050    0.010     0.05   30  0.023915  0.0001 -2366.160918   0.125575   \n",
       "\n",
       "                                   valid_hit_rate  epoch  valid_correct_count  \n",
       "53  [0.00711921 0.0647351  0.23592715 0.86953642]     26                 5283  \n",
       "12  [0.00612583 0.04735099 0.20049669 0.81870861]     12                 5170  \n",
       "66  [0.00678808 0.06142384 0.20182119 0.84288079]     20                 5164  \n",
       "7   [0.00827815 0.07781457 0.26274834 0.86572848]     50                 5157  \n",
       "85  [0.00827815 0.07135762 0.23294702 0.85844371]     33                 5127  "
      ]
     },
     "metadata": {},
     "output_type": "display_data"
    },
    {
     "name": "stdout",
     "output_type": "stream",
     "text": [
      "Best HP Sets for lowest MPR:\n"
     ]
    },
    {
     "data": {
      "text/html": [
       "<div>\n",
       "<style scoped>\n",
       "    .dataframe tbody tr th:only-of-type {\n",
       "        vertical-align: middle;\n",
       "    }\n",
       "\n",
       "    .dataframe tbody tr th {\n",
       "        vertical-align: top;\n",
       "    }\n",
       "\n",
       "    .dataframe thead th {\n",
       "        text-align: right;\n",
       "    }\n",
       "</style>\n",
       "<table border=\"1\" class=\"dataframe\">\n",
       "  <thead>\n",
       "    <tr style=\"text-align: right;\">\n",
       "      <th></th>\n",
       "      <th>alpha_u</th>\n",
       "      <th>alpha_i</th>\n",
       "      <th>alpha_b</th>\n",
       "      <th>dim</th>\n",
       "      <th>lr</th>\n",
       "      <th>sigma</th>\n",
       "      <th>valid_error</th>\n",
       "      <th>valid_mpr</th>\n",
       "      <th>valid_hit_rate</th>\n",
       "      <th>epoch</th>\n",
       "      <th>valid_correct_count</th>\n",
       "    </tr>\n",
       "  </thead>\n",
       "  <tbody>\n",
       "    <tr>\n",
       "      <th>24</th>\n",
       "      <td>0.001</td>\n",
       "      <td>0.05</td>\n",
       "      <td>0.001</td>\n",
       "      <td>150</td>\n",
       "      <td>0.003487</td>\n",
       "      <td>0.10</td>\n",
       "      <td>-2489.749592</td>\n",
       "      <td>0.107787</td>\n",
       "      <td>[0.00860927 0.06937086 0.25215232 0.88509934]</td>\n",
       "      <td>50</td>\n",
       "      <td>4919</td>\n",
       "    </tr>\n",
       "    <tr>\n",
       "      <th>76</th>\n",
       "      <td>0.001</td>\n",
       "      <td>0.01</td>\n",
       "      <td>0.001</td>\n",
       "      <td>40</td>\n",
       "      <td>0.003487</td>\n",
       "      <td>0.01</td>\n",
       "      <td>-2104.463052</td>\n",
       "      <td>0.112522</td>\n",
       "      <td>[0.00844371 0.07615894 0.25927152 0.87963576]</td>\n",
       "      <td>50</td>\n",
       "      <td>4990</td>\n",
       "    </tr>\n",
       "    <tr>\n",
       "      <th>61</th>\n",
       "      <td>0.010</td>\n",
       "      <td>0.01</td>\n",
       "      <td>0.010</td>\n",
       "      <td>45</td>\n",
       "      <td>0.029525</td>\n",
       "      <td>0.10</td>\n",
       "      <td>-1964.208897</td>\n",
       "      <td>0.115520</td>\n",
       "      <td>[0.00827815 0.06986755 0.24569536 0.87384106]</td>\n",
       "      <td>23</td>\n",
       "      <td>5115</td>\n",
       "    </tr>\n",
       "    <tr>\n",
       "      <th>34</th>\n",
       "      <td>0.001</td>\n",
       "      <td>0.01</td>\n",
       "      <td>0.010</td>\n",
       "      <td>40</td>\n",
       "      <td>0.003487</td>\n",
       "      <td>0.10</td>\n",
       "      <td>-2038.886864</td>\n",
       "      <td>0.116244</td>\n",
       "      <td>[0.00860927 0.07731788 0.25728477 0.87152318]</td>\n",
       "      <td>50</td>\n",
       "      <td>5058</td>\n",
       "    </tr>\n",
       "    <tr>\n",
       "      <th>74</th>\n",
       "      <td>0.010</td>\n",
       "      <td>0.01</td>\n",
       "      <td>0.010</td>\n",
       "      <td>30</td>\n",
       "      <td>0.003487</td>\n",
       "      <td>0.10</td>\n",
       "      <td>-2108.581111</td>\n",
       "      <td>0.116596</td>\n",
       "      <td>[0.00827815 0.07798013 0.25678808 0.87251656]</td>\n",
       "      <td>50</td>\n",
       "      <td>5064</td>\n",
       "    </tr>\n",
       "  </tbody>\n",
       "</table>\n",
       "</div>"
      ],
      "text/plain": [
       "    alpha_u  alpha_i  alpha_b  dim        lr  sigma  valid_error  valid_mpr  \\\n",
       "24    0.001     0.05    0.001  150  0.003487   0.10 -2489.749592   0.107787   \n",
       "76    0.001     0.01    0.001   40  0.003487   0.01 -2104.463052   0.112522   \n",
       "61    0.010     0.01    0.010   45  0.029525   0.10 -1964.208897   0.115520   \n",
       "34    0.001     0.01    0.010   40  0.003487   0.10 -2038.886864   0.116244   \n",
       "74    0.010     0.01    0.010   30  0.003487   0.10 -2108.581111   0.116596   \n",
       "\n",
       "                                   valid_hit_rate  epoch  valid_correct_count  \n",
       "24  [0.00860927 0.06937086 0.25215232 0.88509934]     50                 4919  \n",
       "76  [0.00844371 0.07615894 0.25927152 0.87963576]     50                 4990  \n",
       "61  [0.00827815 0.06986755 0.24569536 0.87384106]     23                 5115  \n",
       "34  [0.00860927 0.07731788 0.25728477 0.87152318]     50                 5058  \n",
       "74  [0.00827815 0.07798013 0.25678808 0.87251656]     50                 5064  "
      ]
     },
     "metadata": {},
     "output_type": "display_data"
    }
   ],
   "source": [
    "print('Popularity Sampling')\n",
    "print('-'*50)\n",
    "print('Best HP Sets for highest valid_correct_count:')\n",
    "display(hp_result_p.nlargest(5, 'valid_correct_count'))\n",
    "print('Best HP Sets for lowest MPR:')\n",
    "display(hp_result_p.nsmallest(5, 'valid_mpr'))"
   ]
  },
  {
   "cell_type": "code",
   "execution_count": 220,
   "metadata": {},
   "outputs": [
    {
     "data": {
      "text/plain": [
       "<matplotlib.collections.PathCollection at 0x2ab8eb61f28>"
      ]
     },
     "execution_count": 220,
     "metadata": {},
     "output_type": "execute_result"
    },
    {
     "data": {
      "image/png": "[encoded data removed]",
      "text/plain": [
       "<Figure size 432x288 with 1 Axes>"
      ]
     },
     "metadata": {
      "needs_background": "light"
     },
     "output_type": "display_data"
    }
   ],
   "source": [
    "plt.scatter(hp_result_p['dim'], hp_result_p['valid_mpr'])"
   ]
  },
  {
   "cell_type": "code",
   "execution_count": 221,
   "metadata": {},
   "outputs": [
    {
     "data": {
      "text/plain": [
       "<matplotlib.collections.PathCollection at 0x2ab8ea08a20>"
      ]
     },
     "execution_count": 221,
     "metadata": {},
     "output_type": "execute_result"
    },
    {
     "data": {
      "image/png": "[encoded data removed]",
      "text/plain": [
       "<Figure size 432x288 with 1 Axes>"
      ]
     },
     "metadata": {
      "needs_background": "light"
     },
     "output_type": "display_data"
    }
   ],
   "source": [
    "plt.scatter(hp_result_p['dim'], hp_result_p['valid_correct_count'])"
   ]
  },
  {
   "cell_type": "code",
   "execution_count": 222,
   "metadata": {},
   "outputs": [
    {
     "data": {
      "text/plain": [
       "<matplotlib.axes._subplots.AxesSubplot at 0x2ab8eb8e080>"
      ]
     },
     "execution_count": 222,
     "metadata": {},
     "output_type": "execute_result"
    },
    {
     "data": {
      "image/png": "[encoded data removed]",
      "text/plain": [
       "<Figure size 432x288 with 1 Axes>"
      ]
     },
     "metadata": {
      "needs_background": "light"
     },
     "output_type": "display_data"
    }
   ],
   "source": [
    "sns.distplot(hp_result_p['valid_mpr'], bins=np.arange(0,0.5,0.01))"
   ]
  },
  {
   "cell_type": "code",
   "execution_count": 223,
   "metadata": {},
   "outputs": [
    {
     "name": "stdout",
     "output_type": "stream",
     "text": [
      "First Option HP Set:\n"
     ]
    },
    {
     "data": {
      "text/plain": [
       "alpha_u                                                         0.01\n",
       "alpha_i                                                         0.01\n",
       "alpha_b                                                          0.1\n",
       "dim                                                               60\n",
       "lr                                                         0.0295245\n",
       "sigma                                                            0.1\n",
       "valid_error                                                 -1953.81\n",
       "valid_mpr                                                   0.117995\n",
       "valid_hit_rate         [0.00711921 0.0647351  0.23592715 0.86953642]\n",
       "epoch                                                             26\n",
       "valid_correct_count                                             5283\n",
       "Name: 53, dtype: object"
      ]
     },
     "metadata": {},
     "output_type": "display_data"
    }
   ],
   "source": [
    "print('First Option HP Set:')\n",
    "display(hp_result_p.iloc[53])"
   ]
  },
  {
   "cell_type": "code",
   "execution_count": 224,
   "metadata": {},
   "outputs": [
    {
     "data": {
      "text/plain": [
       "5"
      ]
     },
     "execution_count": 224,
     "metadata": {},
     "output_type": "execute_result"
    }
   ],
   "source": [
    "mask = hp_result_p['valid_mpr'] < hp_result_p.iloc[53]['valid_mpr']\n",
    "mask.sum()"
   ]
  },
  {
   "cell_type": "code",
   "execution_count": 225,
   "metadata": {},
   "outputs": [
    {
     "data": {
      "text/html": [
       "<div>\n",
       "<style scoped>\n",
       "    .dataframe tbody tr th:only-of-type {\n",
       "        vertical-align: middle;\n",
       "    }\n",
       "\n",
       "    .dataframe tbody tr th {\n",
       "        vertical-align: top;\n",
       "    }\n",
       "\n",
       "    .dataframe thead th {\n",
       "        text-align: right;\n",
       "    }\n",
       "</style>\n",
       "<table border=\"1\" class=\"dataframe\">\n",
       "  <thead>\n",
       "    <tr style=\"text-align: right;\">\n",
       "      <th></th>\n",
       "      <th>alpha_u</th>\n",
       "      <th>alpha_i</th>\n",
       "      <th>alpha_b</th>\n",
       "      <th>dim</th>\n",
       "      <th>lr</th>\n",
       "      <th>sigma</th>\n",
       "      <th>valid_error</th>\n",
       "      <th>valid_mpr</th>\n",
       "      <th>valid_hit_rate</th>\n",
       "      <th>epoch</th>\n",
       "      <th>valid_correct_count</th>\n",
       "    </tr>\n",
       "  </thead>\n",
       "  <tbody>\n",
       "    <tr>\n",
       "      <th>24</th>\n",
       "      <td>0.001</td>\n",
       "      <td>0.05</td>\n",
       "      <td>0.001</td>\n",
       "      <td>150</td>\n",
       "      <td>0.003487</td>\n",
       "      <td>0.10</td>\n",
       "      <td>-2489.749592</td>\n",
       "      <td>0.107787</td>\n",
       "      <td>[0.00860927 0.06937086 0.25215232 0.88509934]</td>\n",
       "      <td>50</td>\n",
       "      <td>4919</td>\n",
       "    </tr>\n",
       "    <tr>\n",
       "      <th>34</th>\n",
       "      <td>0.001</td>\n",
       "      <td>0.01</td>\n",
       "      <td>0.010</td>\n",
       "      <td>40</td>\n",
       "      <td>0.003487</td>\n",
       "      <td>0.10</td>\n",
       "      <td>-2038.886864</td>\n",
       "      <td>0.116244</td>\n",
       "      <td>[0.00860927 0.07731788 0.25728477 0.87152318]</td>\n",
       "      <td>50</td>\n",
       "      <td>5058</td>\n",
       "    </tr>\n",
       "    <tr>\n",
       "      <th>61</th>\n",
       "      <td>0.010</td>\n",
       "      <td>0.01</td>\n",
       "      <td>0.010</td>\n",
       "      <td>45</td>\n",
       "      <td>0.029525</td>\n",
       "      <td>0.10</td>\n",
       "      <td>-1964.208897</td>\n",
       "      <td>0.115520</td>\n",
       "      <td>[0.00827815 0.06986755 0.24569536 0.87384106]</td>\n",
       "      <td>23</td>\n",
       "      <td>5115</td>\n",
       "    </tr>\n",
       "    <tr>\n",
       "      <th>74</th>\n",
       "      <td>0.010</td>\n",
       "      <td>0.01</td>\n",
       "      <td>0.010</td>\n",
       "      <td>30</td>\n",
       "      <td>0.003487</td>\n",
       "      <td>0.10</td>\n",
       "      <td>-2108.581111</td>\n",
       "      <td>0.116596</td>\n",
       "      <td>[0.00827815 0.07798013 0.25678808 0.87251656]</td>\n",
       "      <td>50</td>\n",
       "      <td>5064</td>\n",
       "    </tr>\n",
       "    <tr>\n",
       "      <th>76</th>\n",
       "      <td>0.001</td>\n",
       "      <td>0.01</td>\n",
       "      <td>0.001</td>\n",
       "      <td>40</td>\n",
       "      <td>0.003487</td>\n",
       "      <td>0.01</td>\n",
       "      <td>-2104.463052</td>\n",
       "      <td>0.112522</td>\n",
       "      <td>[0.00844371 0.07615894 0.25927152 0.87963576]</td>\n",
       "      <td>50</td>\n",
       "      <td>4990</td>\n",
       "    </tr>\n",
       "  </tbody>\n",
       "</table>\n",
       "</div>"
      ],
      "text/plain": [
       "    alpha_u  alpha_i  alpha_b  dim        lr  sigma  valid_error  valid_mpr  \\\n",
       "24    0.001     0.05    0.001  150  0.003487   0.10 -2489.749592   0.107787   \n",
       "34    0.001     0.01    0.010   40  0.003487   0.10 -2038.886864   0.116244   \n",
       "61    0.010     0.01    0.010   45  0.029525   0.10 -1964.208897   0.115520   \n",
       "74    0.010     0.01    0.010   30  0.003487   0.10 -2108.581111   0.116596   \n",
       "76    0.001     0.01    0.001   40  0.003487   0.01 -2104.463052   0.112522   \n",
       "\n",
       "                                   valid_hit_rate  epoch  valid_correct_count  \n",
       "24  [0.00860927 0.06937086 0.25215232 0.88509934]     50                 4919  \n",
       "34  [0.00860927 0.07731788 0.25728477 0.87152318]     50                 5058  \n",
       "61  [0.00827815 0.06986755 0.24569536 0.87384106]     23                 5115  \n",
       "74  [0.00827815 0.07798013 0.25678808 0.87251656]     50                 5064  \n",
       "76  [0.00844371 0.07615894 0.25927152 0.87963576]     50                 4990  "
      ]
     },
     "execution_count": 225,
     "metadata": {},
     "output_type": "execute_result"
    }
   ],
   "source": [
    "hp_result_p[mask]"
   ]
  },
  {
   "cell_type": "code",
   "execution_count": 226,
   "metadata": {},
   "outputs": [
    {
     "name": "stdout",
     "output_type": "stream",
     "text": [
      "Second Option HP Set:\n"
     ]
    },
    {
     "data": {
      "text/plain": [
       "alpha_u                                                         0.01\n",
       "alpha_i                                                         0.01\n",
       "alpha_b                                                         0.01\n",
       "dim                                                               45\n",
       "lr                                                         0.0295245\n",
       "sigma                                                            0.1\n",
       "valid_error                                                 -1964.21\n",
       "valid_mpr                                                    0.11552\n",
       "valid_hit_rate         [0.00827815 0.06986755 0.24569536 0.87384106]\n",
       "epoch                                                             23\n",
       "valid_correct_count                                             5115\n",
       "Name: 61, dtype: object"
      ]
     },
     "metadata": {},
     "output_type": "display_data"
    }
   ],
   "source": [
    "print('Second Option HP Set:')\n",
    "display(hp_result_p.iloc[61])"
   ]
  },
  {
   "cell_type": "code",
   "execution_count": 227,
   "metadata": {},
   "outputs": [
    {
     "data": {
      "image/png": "[encoded data removed]",
      "text/plain": [
       "<Figure size 432x288 with 1 Axes>"
      ]
     },
     "metadata": {
      "needs_background": "light"
     },
     "output_type": "display_data"
    }
   ],
   "source": [
    "mask_2 = hp_result_p['valid_mpr'] < 0.14\n",
    "\n",
    "fig, ax = plt.subplots()\n",
    "ax.scatter(hp_result_p['valid_mpr'][mask_2], hp_result_p['valid_correct_count'][mask_2]/6040)\n",
    "\n",
    "for index, row in hp_result_p.loc[mask_2].iterrows():\n",
    "    ax.annotate(str(index), (row['valid_mpr'], row['valid_correct_count']/6040))\n",
    "    \n",
    "plt.xlabel('MPR')\n",
    "plt.ylabel('1 - Error Rate')\n",
    "plt.show()"
   ]
  },
  {
   "cell_type": "code",
   "execution_count": 228,
   "metadata": {},
   "outputs": [
    {
     "name": "stdout",
     "output_type": "stream",
     "text": [
      "Pareto front index vales\n",
      "Points on Pareto front: \n",
      " [24 53 61 76]\n",
      "\n",
      "Pareto front scores\n",
      "[[1.07786507e-01 4.91900000e+03]\n",
      " [1.17994566e-01 5.28300000e+03]\n",
      " [1.15519747e-01 5.11500000e+03]\n",
      " [1.12522276e-01 4.99000000e+03]]\n"
     ]
    }
   ],
   "source": [
    "scores = hp_result_p[['valid_mpr', 'valid_correct_count']].values\n",
    "pareto = identify_pareto(scores)\n",
    "print('Pareto front index vales')\n",
    "print('Points on Pareto front: \\n',pareto)\n",
    "\n",
    "pareto_front = scores[pareto]\n",
    "print ('\\nPareto front scores')\n",
    "print (pareto_front)"
   ]
  },
  {
   "cell_type": "code",
   "execution_count": 229,
   "metadata": {},
   "outputs": [],
   "source": [
    "pareto_front_df = pd.DataFrame(pareto_front)\n",
    "pareto_front_df.sort_values(0, inplace=True)\n",
    "pareto_front = pareto_front_df.values"
   ]
  },
  {
   "cell_type": "code",
   "execution_count": 230,
   "metadata": {},
   "outputs": [
    {
     "data": {
      "image/png": "[encoded data removed]",
      "text/plain": [
       "<Figure size 432x288 with 1 Axes>"
      ]
     },
     "metadata": {
      "needs_background": "light"
     },
     "output_type": "display_data"
    }
   ],
   "source": [
    "def make_error_rate(number):\n",
    "    return (6040-number)/6040\n",
    "x_all = scores[:, 0][mask_2]\n",
    "y_all = make_error_rate(scores[:, 1][mask_2])\n",
    "x_pareto = pareto_front[:, 0]\n",
    "y_pareto = make_error_rate(pareto_front[:, 1])\n",
    "\n",
    "fig, ax = plt.subplots()\n",
    "ax.scatter(x_all, y_all)\n",
    "ax.plot(x_pareto, y_pareto, color='r', label='Pareto Front')\n",
    "\n",
    "for index, row in hp_result_p.loc[mask_2].iterrows():\n",
    "    ax.annotate(str(index), (row['valid_mpr'], make_error_rate(row['valid_correct_count'])))\n",
    "    \n",
    "plt.xlabel('MPR')\n",
    "plt.ylabel('Error Rate')\n",
    "plt.legend(loc=3)\n",
    "plt.title('Hyper Parameters Randomized Grid Search Results - Popularity Sampling')\n",
    "plt.show()"
   ]
  },
  {
   "cell_type": "code",
   "execution_count": 173,
   "metadata": {},
   "outputs": [
    {
     "data": {
      "text/html": [
       "<div>\n",
       "<style scoped>\n",
       "    .dataframe tbody tr th:only-of-type {\n",
       "        vertical-align: middle;\n",
       "    }\n",
       "\n",
       "    .dataframe tbody tr th {\n",
       "        vertical-align: top;\n",
       "    }\n",
       "\n",
       "    .dataframe thead th {\n",
       "        text-align: right;\n",
       "    }\n",
       "</style>\n",
       "<table border=\"1\" class=\"dataframe\">\n",
       "  <thead>\n",
       "    <tr style=\"text-align: right;\">\n",
       "      <th></th>\n",
       "      <th>alpha_u</th>\n",
       "      <th>alpha_i</th>\n",
       "      <th>alpha_b</th>\n",
       "      <th>dim</th>\n",
       "      <th>lr</th>\n",
       "      <th>sigma</th>\n",
       "      <th>valid_error</th>\n",
       "      <th>valid_mpr</th>\n",
       "      <th>valid_hit_rate</th>\n",
       "      <th>epoch</th>\n",
       "      <th>valid_correct_count</th>\n",
       "    </tr>\n",
       "  </thead>\n",
       "  <tbody>\n",
       "    <tr>\n",
       "      <th>24</th>\n",
       "      <td>0.001</td>\n",
       "      <td>0.05</td>\n",
       "      <td>0.001</td>\n",
       "      <td>150</td>\n",
       "      <td>0.003487</td>\n",
       "      <td>0.10</td>\n",
       "      <td>-2489.749592</td>\n",
       "      <td>0.107787</td>\n",
       "      <td>[0.00860927 0.06937086 0.25215232 0.88509934]</td>\n",
       "      <td>50</td>\n",
       "      <td>4919</td>\n",
       "    </tr>\n",
       "    <tr>\n",
       "      <th>76</th>\n",
       "      <td>0.001</td>\n",
       "      <td>0.01</td>\n",
       "      <td>0.001</td>\n",
       "      <td>40</td>\n",
       "      <td>0.003487</td>\n",
       "      <td>0.01</td>\n",
       "      <td>-2104.463052</td>\n",
       "      <td>0.112522</td>\n",
       "      <td>[0.00844371 0.07615894 0.25927152 0.87963576]</td>\n",
       "      <td>50</td>\n",
       "      <td>4990</td>\n",
       "    </tr>\n",
       "    <tr>\n",
       "      <th>61</th>\n",
       "      <td>0.010</td>\n",
       "      <td>0.01</td>\n",
       "      <td>0.010</td>\n",
       "      <td>45</td>\n",
       "      <td>0.029525</td>\n",
       "      <td>0.10</td>\n",
       "      <td>-1964.208897</td>\n",
       "      <td>0.115520</td>\n",
       "      <td>[0.00827815 0.06986755 0.24569536 0.87384106]</td>\n",
       "      <td>23</td>\n",
       "      <td>5115</td>\n",
       "    </tr>\n",
       "    <tr>\n",
       "      <th>53</th>\n",
       "      <td>0.010</td>\n",
       "      <td>0.01</td>\n",
       "      <td>0.100</td>\n",
       "      <td>60</td>\n",
       "      <td>0.029525</td>\n",
       "      <td>0.10</td>\n",
       "      <td>-1953.813488</td>\n",
       "      <td>0.117995</td>\n",
       "      <td>[0.00711921 0.0647351  0.23592715 0.86953642]</td>\n",
       "      <td>26</td>\n",
       "      <td>5283</td>\n",
       "    </tr>\n",
       "  </tbody>\n",
       "</table>\n",
       "</div>"
      ],
      "text/plain": [
       "    alpha_u  alpha_i  alpha_b  dim        lr  sigma  valid_error  valid_mpr  \\\n",
       "24    0.001     0.05    0.001  150  0.003487   0.10 -2489.749592   0.107787   \n",
       "76    0.001     0.01    0.001   40  0.003487   0.01 -2104.463052   0.112522   \n",
       "61    0.010     0.01    0.010   45  0.029525   0.10 -1964.208897   0.115520   \n",
       "53    0.010     0.01    0.100   60  0.029525   0.10 -1953.813488   0.117995   \n",
       "\n",
       "                                   valid_hit_rate  epoch  valid_correct_count  \n",
       "24  [0.00860927 0.06937086 0.25215232 0.88509934]     50                 4919  \n",
       "76  [0.00844371 0.07615894 0.25927152 0.87963576]     50                 4990  \n",
       "61  [0.00827815 0.06986755 0.24569536 0.87384106]     23                 5115  \n",
       "53  [0.00711921 0.0647351  0.23592715 0.86953642]     26                 5283  "
      ]
     },
     "execution_count": 173,
     "metadata": {},
     "output_type": "execute_result"
    }
   ],
   "source": [
    "hp_result_p.iloc[[24,76,61,53]]"
   ]
  },
  {
   "cell_type": "markdown",
   "metadata": {},
   "source": [
    "### Uniform Sampling:"
   ]
  },
  {
   "cell_type": "code",
   "execution_count": 208,
   "metadata": {},
   "outputs": [
    {
     "name": "stdout",
     "output_type": "stream",
     "text": [
      "Uniform Sampling\n",
      "--------------------------------------------------\n",
      "Best HP Sets for highest valid_correct_count:\n"
     ]
    },
    {
     "data": {
      "text/html": [
       "<div>\n",
       "<style scoped>\n",
       "    .dataframe tbody tr th:only-of-type {\n",
       "        vertical-align: middle;\n",
       "    }\n",
       "\n",
       "    .dataframe tbody tr th {\n",
       "        vertical-align: top;\n",
       "    }\n",
       "\n",
       "    .dataframe thead th {\n",
       "        text-align: right;\n",
       "    }\n",
       "</style>\n",
       "<table border=\"1\" class=\"dataframe\">\n",
       "  <thead>\n",
       "    <tr style=\"text-align: right;\">\n",
       "      <th></th>\n",
       "      <th>alpha_u</th>\n",
       "      <th>alpha_i</th>\n",
       "      <th>alpha_b</th>\n",
       "      <th>dim</th>\n",
       "      <th>lr</th>\n",
       "      <th>sigma</th>\n",
       "      <th>valid_error</th>\n",
       "      <th>valid_mpr</th>\n",
       "      <th>valid_hit_rate</th>\n",
       "      <th>epoch</th>\n",
       "      <th>valid_correct_count</th>\n",
       "    </tr>\n",
       "  </thead>\n",
       "  <tbody>\n",
       "    <tr>\n",
       "      <th>53</th>\n",
       "      <td>0.010</td>\n",
       "      <td>0.010</td>\n",
       "      <td>0.10</td>\n",
       "      <td>60</td>\n",
       "      <td>0.026572</td>\n",
       "      <td>0.1000</td>\n",
       "      <td>-1129.093867</td>\n",
       "      <td>0.082410</td>\n",
       "      <td>[0.00794702 0.07400662 0.26986755 0.92831126]</td>\n",
       "      <td>29</td>\n",
       "      <td>5668</td>\n",
       "    </tr>\n",
       "    <tr>\n",
       "      <th>12</th>\n",
       "      <td>0.010</td>\n",
       "      <td>0.001</td>\n",
       "      <td>0.10</td>\n",
       "      <td>150</td>\n",
       "      <td>0.065610</td>\n",
       "      <td>0.1000</td>\n",
       "      <td>-1058.494071</td>\n",
       "      <td>0.088492</td>\n",
       "      <td>[0.0057947  0.07036424 0.25645695 0.9192053 ]</td>\n",
       "      <td>20</td>\n",
       "      <td>5652</td>\n",
       "    </tr>\n",
       "    <tr>\n",
       "      <th>47</th>\n",
       "      <td>0.001</td>\n",
       "      <td>0.001</td>\n",
       "      <td>0.05</td>\n",
       "      <td>100</td>\n",
       "      <td>0.065610</td>\n",
       "      <td>0.0001</td>\n",
       "      <td>-1055.573839</td>\n",
       "      <td>0.087955</td>\n",
       "      <td>[0.00844371 0.0705298  0.25844371 0.92086093]</td>\n",
       "      <td>21</td>\n",
       "      <td>5631</td>\n",
       "    </tr>\n",
       "    <tr>\n",
       "      <th>60</th>\n",
       "      <td>0.050</td>\n",
       "      <td>0.001</td>\n",
       "      <td>0.05</td>\n",
       "      <td>25</td>\n",
       "      <td>0.029525</td>\n",
       "      <td>0.1000</td>\n",
       "      <td>-1253.318979</td>\n",
       "      <td>0.087641</td>\n",
       "      <td>[0.00778146 0.07566225 0.26705298 0.9192053 ]</td>\n",
       "      <td>25</td>\n",
       "      <td>5631</td>\n",
       "    </tr>\n",
       "    <tr>\n",
       "      <th>92</th>\n",
       "      <td>0.050</td>\n",
       "      <td>0.001</td>\n",
       "      <td>0.05</td>\n",
       "      <td>60</td>\n",
       "      <td>0.023915</td>\n",
       "      <td>0.0001</td>\n",
       "      <td>-1283.433239</td>\n",
       "      <td>0.090745</td>\n",
       "      <td>[0.00943709 0.07566225 0.25877483 0.91208609]</td>\n",
       "      <td>35</td>\n",
       "      <td>5617</td>\n",
       "    </tr>\n",
       "  </tbody>\n",
       "</table>\n",
       "</div>"
      ],
      "text/plain": [
       "    alpha_u  alpha_i  alpha_b  dim        lr   sigma  valid_error  valid_mpr  \\\n",
       "53    0.010    0.010     0.10   60  0.026572  0.1000 -1129.093867   0.082410   \n",
       "12    0.010    0.001     0.10  150  0.065610  0.1000 -1058.494071   0.088492   \n",
       "47    0.001    0.001     0.05  100  0.065610  0.0001 -1055.573839   0.087955   \n",
       "60    0.050    0.001     0.05   25  0.029525  0.1000 -1253.318979   0.087641   \n",
       "92    0.050    0.001     0.05   60  0.023915  0.0001 -1283.433239   0.090745   \n",
       "\n",
       "                                   valid_hit_rate  epoch  valid_correct_count  \n",
       "53  [0.00794702 0.07400662 0.26986755 0.92831126]     29                 5668  \n",
       "12  [0.0057947  0.07036424 0.25645695 0.9192053 ]     20                 5652  \n",
       "47  [0.00844371 0.0705298  0.25844371 0.92086093]     21                 5631  \n",
       "60  [0.00778146 0.07566225 0.26705298 0.9192053 ]     25                 5631  \n",
       "92  [0.00943709 0.07566225 0.25877483 0.91208609]     35                 5617  "
      ]
     },
     "metadata": {},
     "output_type": "display_data"
    },
    {
     "name": "stdout",
     "output_type": "stream",
     "text": [
      "Best HP Sets for lowest MPR:\n"
     ]
    },
    {
     "data": {
      "text/html": [
       "<div>\n",
       "<style scoped>\n",
       "    .dataframe tbody tr th:only-of-type {\n",
       "        vertical-align: middle;\n",
       "    }\n",
       "\n",
       "    .dataframe tbody tr th {\n",
       "        vertical-align: top;\n",
       "    }\n",
       "\n",
       "    .dataframe thead th {\n",
       "        text-align: right;\n",
       "    }\n",
       "</style>\n",
       "<table border=\"1\" class=\"dataframe\">\n",
       "  <thead>\n",
       "    <tr style=\"text-align: right;\">\n",
       "      <th></th>\n",
       "      <th>alpha_u</th>\n",
       "      <th>alpha_i</th>\n",
       "      <th>alpha_b</th>\n",
       "      <th>dim</th>\n",
       "      <th>lr</th>\n",
       "      <th>sigma</th>\n",
       "      <th>valid_error</th>\n",
       "      <th>valid_mpr</th>\n",
       "      <th>valid_hit_rate</th>\n",
       "      <th>epoch</th>\n",
       "      <th>valid_correct_count</th>\n",
       "    </tr>\n",
       "  </thead>\n",
       "  <tbody>\n",
       "    <tr>\n",
       "      <th>53</th>\n",
       "      <td>0.010</td>\n",
       "      <td>0.010</td>\n",
       "      <td>0.100</td>\n",
       "      <td>60</td>\n",
       "      <td>0.026572</td>\n",
       "      <td>0.1000</td>\n",
       "      <td>-1129.093867</td>\n",
       "      <td>0.082410</td>\n",
       "      <td>[0.00794702 0.07400662 0.26986755 0.92831126]</td>\n",
       "      <td>29</td>\n",
       "      <td>5668</td>\n",
       "    </tr>\n",
       "    <tr>\n",
       "      <th>18</th>\n",
       "      <td>0.010</td>\n",
       "      <td>0.001</td>\n",
       "      <td>0.001</td>\n",
       "      <td>60</td>\n",
       "      <td>0.023915</td>\n",
       "      <td>0.0010</td>\n",
       "      <td>-1025.899763</td>\n",
       "      <td>0.082701</td>\n",
       "      <td>[0.0089404  0.07930464 0.27450331 0.92748344]</td>\n",
       "      <td>35</td>\n",
       "      <td>4919</td>\n",
       "    </tr>\n",
       "    <tr>\n",
       "      <th>61</th>\n",
       "      <td>0.010</td>\n",
       "      <td>0.010</td>\n",
       "      <td>0.010</td>\n",
       "      <td>45</td>\n",
       "      <td>0.029525</td>\n",
       "      <td>0.1000</td>\n",
       "      <td>-1169.360294</td>\n",
       "      <td>0.082801</td>\n",
       "      <td>[0.00827815 0.07566225 0.27301325 0.92781457]</td>\n",
       "      <td>25</td>\n",
       "      <td>5364</td>\n",
       "    </tr>\n",
       "    <tr>\n",
       "      <th>60</th>\n",
       "      <td>0.050</td>\n",
       "      <td>0.001</td>\n",
       "      <td>0.050</td>\n",
       "      <td>25</td>\n",
       "      <td>0.029525</td>\n",
       "      <td>0.1000</td>\n",
       "      <td>-1253.318979</td>\n",
       "      <td>0.087641</td>\n",
       "      <td>[0.00778146 0.07566225 0.26705298 0.9192053 ]</td>\n",
       "      <td>25</td>\n",
       "      <td>5631</td>\n",
       "    </tr>\n",
       "    <tr>\n",
       "      <th>47</th>\n",
       "      <td>0.001</td>\n",
       "      <td>0.001</td>\n",
       "      <td>0.050</td>\n",
       "      <td>100</td>\n",
       "      <td>0.065610</td>\n",
       "      <td>0.0001</td>\n",
       "      <td>-1055.573839</td>\n",
       "      <td>0.087955</td>\n",
       "      <td>[0.00844371 0.0705298  0.25844371 0.92086093]</td>\n",
       "      <td>21</td>\n",
       "      <td>5631</td>\n",
       "    </tr>\n",
       "  </tbody>\n",
       "</table>\n",
       "</div>"
      ],
      "text/plain": [
       "    alpha_u  alpha_i  alpha_b  dim        lr   sigma  valid_error  valid_mpr  \\\n",
       "53    0.010    0.010    0.100   60  0.026572  0.1000 -1129.093867   0.082410   \n",
       "18    0.010    0.001    0.001   60  0.023915  0.0010 -1025.899763   0.082701   \n",
       "61    0.010    0.010    0.010   45  0.029525  0.1000 -1169.360294   0.082801   \n",
       "60    0.050    0.001    0.050   25  0.029525  0.1000 -1253.318979   0.087641   \n",
       "47    0.001    0.001    0.050  100  0.065610  0.0001 -1055.573839   0.087955   \n",
       "\n",
       "                                   valid_hit_rate  epoch  valid_correct_count  \n",
       "53  [0.00794702 0.07400662 0.26986755 0.92831126]     29                 5668  \n",
       "18  [0.0089404  0.07930464 0.27450331 0.92748344]     35                 4919  \n",
       "61  [0.00827815 0.07566225 0.27301325 0.92781457]     25                 5364  \n",
       "60  [0.00778146 0.07566225 0.26705298 0.9192053 ]     25                 5631  \n",
       "47  [0.00844371 0.0705298  0.25844371 0.92086093]     21                 5631  "
      ]
     },
     "metadata": {},
     "output_type": "display_data"
    }
   ],
   "source": [
    "print('Uniform Sampling')\n",
    "print('-'*50)\n",
    "print('Best HP Sets for highest valid_correct_count:')\n",
    "display(hp_result_u.nlargest(5, 'valid_correct_count'))\n",
    "print('Best HP Sets for lowest MPR:')\n",
    "display(hp_result_u.nsmallest(5, 'valid_mpr'))"
   ]
  },
  {
   "cell_type": "code",
   "execution_count": 209,
   "metadata": {
    "scrolled": true
   },
   "outputs": [
    {
     "data": {
      "text/plain": [
       "<matplotlib.collections.PathCollection at 0x2ab9031fcf8>"
      ]
     },
     "execution_count": 209,
     "metadata": {},
     "output_type": "execute_result"
    },
    {
     "data": {
      "image/png": "[encoded data removed]",
      "text/plain": [
       "<Figure size 432x288 with 1 Axes>"
      ]
     },
     "metadata": {
      "needs_background": "light"
     },
     "output_type": "display_data"
    }
   ],
   "source": [
    "plt.scatter(hp_result_u['dim'], hp_result_u['valid_mpr'])"
   ]
  },
  {
   "cell_type": "code",
   "execution_count": 210,
   "metadata": {},
   "outputs": [
    {
     "data": {
      "text/plain": [
       "<matplotlib.collections.PathCollection at 0x2ab8ff96588>"
      ]
     },
     "execution_count": 210,
     "metadata": {},
     "output_type": "execute_result"
    },
    {
     "data": {
      "image/png": "[encoded data removed]",
      "text/plain": [
       "<Figure size 432x288 with 1 Axes>"
      ]
     },
     "metadata": {
      "needs_background": "light"
     },
     "output_type": "display_data"
    }
   ],
   "source": [
    "plt.scatter(hp_result_u['dim'], hp_result_u['valid_correct_count'])"
   ]
  },
  {
   "cell_type": "code",
   "execution_count": 211,
   "metadata": {},
   "outputs": [
    {
     "data": {
      "image/png": "[encoded data removed]",
      "text/plain": [
       "<Figure size 432x288 with 1 Axes>"
      ]
     },
     "metadata": {
      "needs_background": "light"
     },
     "output_type": "display_data"
    }
   ],
   "source": [
    "mask_3 = hp_result_u['valid_mpr'] < 0.1\n",
    "\n",
    "fig, ax = plt.subplots()\n",
    "ax.scatter(hp_result_u['valid_mpr'][mask_3], hp_result_u['valid_correct_count'][mask_3]/6040)\n",
    "\n",
    "for index, row in hp_result_u.loc[mask_3].iterrows():\n",
    "    ax.annotate(str(index), (row['valid_mpr'], row['valid_correct_count']/6040))\n",
    "    \n",
    "plt.xlabel('MPR')\n",
    "plt.ylabel('1 - Error Rate')\n",
    "plt.show()"
   ]
  },
  {
   "cell_type": "code",
   "execution_count": 212,
   "metadata": {},
   "outputs": [
    {
     "name": "stdout",
     "output_type": "stream",
     "text": [
      "Pareto front index vales\n",
      "Points on Pareto front: \n",
      " [53]\n",
      "\n",
      "Pareto front scores\n",
      "[[8.2410024e-02 5.6680000e+03]]\n"
     ]
    }
   ],
   "source": [
    "scores = hp_result_u[['valid_mpr', 'valid_correct_count']].values\n",
    "pareto = identify_pareto(scores)\n",
    "print('Pareto front index vales')\n",
    "print('Points on Pareto front: \\n',pareto)\n",
    "\n",
    "pareto_front = scores[pareto]\n",
    "print ('\\nPareto front scores')\n",
    "print (pareto_front)"
   ]
  },
  {
   "cell_type": "code",
   "execution_count": 213,
   "metadata": {},
   "outputs": [],
   "source": [
    "pareto_front_df = pd.DataFrame(pareto_front)\n",
    "pareto_front_df.sort_values(0, inplace=True)\n",
    "pareto_front = pareto_front_df.values"
   ]
  },
  {
   "cell_type": "code",
   "execution_count": 218,
   "metadata": {},
   "outputs": [
    {
     "data": {
      "image/png": "[encoded data removed]",
      "text/plain": [
       "<Figure size 432x288 with 1 Axes>"
      ]
     },
     "metadata": {
      "needs_background": "light"
     },
     "output_type": "display_data"
    }
   ],
   "source": [
    "x_all = scores[:, 0][mask_3]\n",
    "y_all = make_error_rate(scores[:, 1][mask_3])\n",
    "x_pareto = pareto_front[:, 0]\n",
    "y_pareto = make_error_rate(pareto_front[:, 1])\n",
    "\n",
    "fig, ax = plt.subplots()\n",
    "ax.scatter(x_all, y_all)\n",
    "ax.scatter(x_pareto, y_pareto, color='r', label='Pareto Front')\n",
    "\n",
    "for index, row in hp_result_u.loc[mask_3].iterrows():\n",
    "    ax.annotate(str(index), (row['valid_mpr'], make_error_rate(row['valid_correct_count'])))\n",
    "    \n",
    "plt.xlabel('MPR')\n",
    "plt.ylabel('Error Rate')\n",
    "plt.legend(loc=2)\n",
    "plt.title('Hyper Parameters Randomized Grid Search Results - Uniform Sampling')\n",
    "plt.show()"
   ]
  },
  {
   "cell_type": "code",
   "execution_count": 181,
   "metadata": {},
   "outputs": [
    {
     "name": "stdout",
     "output_type": "stream",
     "text": [
      "First Option HP Set:\n"
     ]
    },
    {
     "data": {
      "text/plain": [
       "alpha_u                                                         0.01\n",
       "alpha_i                                                         0.01\n",
       "alpha_b                                                          0.1\n",
       "dim                                                               60\n",
       "lr                                                         0.0265721\n",
       "sigma                                                            0.1\n",
       "valid_error                                                 -1129.09\n",
       "valid_mpr                                                    0.08241\n",
       "valid_hit_rate         [0.00794702 0.07400662 0.26986755 0.92831126]\n",
       "epoch                                                             29\n",
       "valid_correct_count                                             5668\n",
       "Name: 53, dtype: object"
      ]
     },
     "metadata": {},
     "output_type": "display_data"
    }
   ],
   "source": [
    "print('First Option HP Set:')\n",
    "display(hp_result_u.iloc[53])"
   ]
  },
  {
   "cell_type": "code",
   "execution_count": 182,
   "metadata": {},
   "outputs": [
    {
     "data": {
      "text/plain": [
       "alpha_u                                                         0.01\n",
       "alpha_i                                                         0.01\n",
       "alpha_b                                                          0.1\n",
       "dim                                                               60\n",
       "lr                                                         0.0295245\n",
       "sigma                                                            0.1\n",
       "valid_error                                                 -1953.81\n",
       "valid_mpr                                                   0.117995\n",
       "valid_hit_rate         [0.00711921 0.0647351  0.23592715 0.86953642]\n",
       "epoch                                                             26\n",
       "valid_correct_count                                             5283\n",
       "Name: 53, dtype: object"
      ]
     },
     "metadata": {},
     "output_type": "display_data"
    }
   ],
   "source": [
    "display(hp_result_p.iloc[53])"
   ]
  },
  {
   "cell_type": "code",
   "execution_count": 183,
   "metadata": {},
   "outputs": [
    {
     "name": "stdout",
     "output_type": "stream",
     "text": [
      "Second Option HP Set:\n"
     ]
    },
    {
     "data": {
      "text/plain": [
       "alpha_u                                                         0.01\n",
       "alpha_i                                                         0.01\n",
       "alpha_b                                                         0.01\n",
       "dim                                                               45\n",
       "lr                                                         0.0295245\n",
       "sigma                                                            0.1\n",
       "valid_error                                                 -1169.36\n",
       "valid_mpr                                                  0.0828013\n",
       "valid_hit_rate         [0.00827815 0.07566225 0.27301325 0.92781457]\n",
       "epoch                                                             25\n",
       "valid_correct_count                                             5364\n",
       "Name: 61, dtype: object"
      ]
     },
     "metadata": {},
     "output_type": "display_data"
    }
   ],
   "source": [
    "print('Second Option HP Set:')\n",
    "display(hp_result_u.iloc[61])"
   ]
  },
  {
   "cell_type": "code",
   "execution_count": 184,
   "metadata": {},
   "outputs": [
    {
     "data": {
      "text/plain": [
       "alpha_u                                                         0.01\n",
       "alpha_i                                                         0.01\n",
       "alpha_b                                                         0.01\n",
       "dim                                                               45\n",
       "lr                                                         0.0295245\n",
       "sigma                                                            0.1\n",
       "valid_error                                                 -1964.21\n",
       "valid_mpr                                                    0.11552\n",
       "valid_hit_rate         [0.00827815 0.06986755 0.24569536 0.87384106]\n",
       "epoch                                                             23\n",
       "valid_correct_count                                             5115\n",
       "Name: 61, dtype: object"
      ]
     },
     "metadata": {},
     "output_type": "display_data"
    }
   ],
   "source": [
    "display(hp_result_p.iloc[61])"
   ]
  }
 ],
 "metadata": {
  "kernelspec": {
   "display_name": "Python 3",
   "language": "python",
   "name": "python3"
  },
  "language_info": {
   "codemirror_mode": {
    "name": "ipython",
    "version": 3
   },
   "file_extension": ".py",
   "mimetype": "text/x-python",
   "name": "python",
   "nbconvert_exporter": "python",
   "pygments_lexer": "ipython3",
   "version": "3.7.0"
  }
 },
 "nbformat": 4,
 "nbformat_minor": 2
}
